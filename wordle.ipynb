{
 "cells": [
  {
   "cell_type": "code",
   "execution_count": 1,
   "metadata": {},
   "outputs": [],
   "source": [
    "import nltk"
   ]
  },
  {
   "cell_type": "code",
   "execution_count": 2,
   "metadata": {},
   "outputs": [
    {
     "name": "stderr",
     "output_type": "stream",
     "text": [
      "[nltk_data] Downloading package words to /Users/shriphani/nltk_data...\n",
      "[nltk_data]   Package words is already up-to-date!\n"
     ]
    },
    {
     "data": {
      "text/plain": [
       "True"
      ]
     },
     "execution_count": 2,
     "metadata": {},
     "output_type": "execute_result"
    }
   ],
   "source": [
    "nltk.download('words')"
   ]
  },
  {
   "cell_type": "code",
   "execution_count": 3,
   "metadata": {},
   "outputs": [],
   "source": [
    "from nltk.corpus import words"
   ]
  },
  {
   "cell_type": "code",
   "execution_count": 4,
   "metadata": {},
   "outputs": [],
   "source": [
    "ws5 = filter(lambda x: len(x) == 5, words.words())"
   ]
  },
  {
   "cell_type": "code",
   "execution_count": 5,
   "metadata": {},
   "outputs": [],
   "source": [
    "char_counts = {}"
   ]
  },
  {
   "cell_type": "code",
   "execution_count": 13,
   "metadata": {},
   "outputs": [],
   "source": [
    "for w in ws5:\n",
    "    for c in w:\n",
    "        c = c.lower()\n",
    "        if not c in char_counts:\n",
    "            char_counts[c] = 0\n",
    "        char_counts[c] += 1\n"
   ]
  },
  {
   "cell_type": "code",
   "execution_count": 14,
   "metadata": {},
   "outputs": [],
   "source": [
    "import operator\n",
    "sorted_char_counts = sorted(char_counts.items(), key=operator.itemgetter(1), reverse=True)"
   ]
  },
  {
   "cell_type": "code",
   "execution_count": 15,
   "metadata": {},
   "outputs": [
    {
     "data": {
      "text/plain": [
       "['a',\n",
       " 'e',\n",
       " 'r',\n",
       " 'o',\n",
       " 'i',\n",
       " 's',\n",
       " 'n',\n",
       " 'l',\n",
       " 't',\n",
       " 'u',\n",
       " 'y',\n",
       " 'c',\n",
       " 'd',\n",
       " 'h',\n",
       " 'm',\n",
       " 'p',\n",
       " 'b',\n",
       " 'g',\n",
       " 'k',\n",
       " 'w',\n",
       " 'f',\n",
       " 'v',\n",
       " 'z',\n",
       " 'x',\n",
       " 'j',\n",
       " 'S',\n",
       " 'A',\n",
       " 'M',\n",
       " 'C',\n",
       " 'B',\n",
       " 'q',\n",
       " 'T',\n",
       " 'P',\n",
       " 'K',\n",
       " 'L',\n",
       " 'D',\n",
       " 'G',\n",
       " 'N',\n",
       " 'H',\n",
       " 'I',\n",
       " 'E',\n",
       " 'J',\n",
       " 'R',\n",
       " 'F',\n",
       " 'O',\n",
       " 'V',\n",
       " 'U',\n",
       " 'W',\n",
       " 'Y',\n",
       " 'Z',\n",
       " 'X',\n",
       " 'Q']"
      ]
     },
     "execution_count": 15,
     "metadata": {},
     "output_type": "execute_result"
    }
   ],
   "source": [
    "[x[0] for x in sorted_char_counts]"
   ]
  },
  {
   "cell_type": "code",
   "execution_count": null,
   "metadata": {},
   "outputs": [],
   "source": []
  }
 ],
 "metadata": {
  "kernelspec": {
   "display_name": "Python 3",
   "language": "python",
   "name": "python3"
  },
  "language_info": {
   "codemirror_mode": {
    "name": "ipython",
    "version": 3
   },
   "file_extension": ".py",
   "mimetype": "text/x-python",
   "name": "python",
   "nbconvert_exporter": "python",
   "pygments_lexer": "ipython3",
   "version": "3.7.4"
  }
 },
 "nbformat": 4,
 "nbformat_minor": 2
}
