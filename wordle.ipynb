{
 "cells": [
  {
   "cell_type": "code",
   "execution_count": 1,
   "metadata": {},
   "outputs": [],
   "source": [
    "import nltk"
   ]
  },
  {
   "cell_type": "code",
   "execution_count": 2,
   "metadata": {},
   "outputs": [
    {
     "name": "stderr",
     "output_type": "stream",
     "text": [
      "[nltk_data] Downloading package words to /Users/shriphani/nltk_data...\n",
      "[nltk_data]   Package words is already up-to-date!\n"
     ]
    },
    {
     "data": {
      "text/plain": [
       "True"
      ]
     },
     "execution_count": 2,
     "metadata": {},
     "output_type": "execute_result"
    }
   ],
   "source": [
    "nltk.download('words')"
   ]
  },
  {
   "cell_type": "code",
   "execution_count": 3,
   "metadata": {},
   "outputs": [],
   "source": [
    "from nltk.corpus import words"
   ]
  },
  {
   "cell_type": "code",
   "execution_count": 4,
   "metadata": {},
   "outputs": [],
   "source": [
    "ws5 = map(lambda x: x.lower(), filter(lambda x: len(x) == 5, words.words()))"
   ]
  },
  {
   "cell_type": "code",
   "execution_count": 5,
   "metadata": {},
   "outputs": [],
   "source": [
    "char_counts = {}"
   ]
  },
  {
   "cell_type": "code",
   "execution_count": 6,
   "metadata": {},
   "outputs": [],
   "source": [
    "for w in ws5:\n",
    "    for c in w:\n",
    "        if not c in char_counts:\n",
    "            char_counts[c] = 0\n",
    "        char_counts[c] += 1\n"
   ]
  },
  {
   "cell_type": "code",
   "execution_count": 7,
   "metadata": {},
   "outputs": [],
   "source": [
    "import operator\n",
    "sorted_char_counts = sorted(char_counts.items(), key=operator.itemgetter(1), reverse=True)"
   ]
  },
  {
   "cell_type": "code",
   "execution_count": 8,
   "metadata": {},
   "outputs": [
    {
     "data": {
      "text/plain": [
       "[('a', 5879),\n",
       " ('e', 5019),\n",
       " ('r', 3640),\n",
       " ('o', 3372),\n",
       " ('i', 3365),\n",
       " ('s', 2954),\n",
       " ('l', 2848),\n",
       " ('n', 2827),\n",
       " ('t', 2807),\n",
       " ('u', 2333),\n",
       " ('c', 1878),\n",
       " ('y', 1870),\n",
       " ('d', 1703),\n",
       " ('m', 1655),\n",
       " ('h', 1639),\n",
       " ('p', 1508),\n",
       " ('b', 1397),\n",
       " ('g', 1319),\n",
       " ('k', 1121),\n",
       " ('w', 764),\n",
       " ('f', 755),\n",
       " ('v', 555),\n",
       " ('z', 308),\n",
       " ('j', 251),\n",
       " ('x', 241),\n",
       " ('q', 102)]"
      ]
     },
     "execution_count": 8,
     "metadata": {},
     "output_type": "execute_result"
    }
   ],
   "source": [
    "sorted_char_counts"
   ]
  },
  {
   "cell_type": "code",
   "execution_count": null,
   "metadata": {},
   "outputs": [],
   "source": []
  }
 ],
 "metadata": {
  "kernelspec": {
   "display_name": "Python 3",
   "language": "python",
   "name": "python3"
  },
  "language_info": {
   "codemirror_mode": {
    "name": "ipython",
    "version": 3
   },
   "file_extension": ".py",
   "mimetype": "text/x-python",
   "name": "python",
   "nbconvert_exporter": "python",
   "pygments_lexer": "ipython3",
   "version": "3.7.4"
  }
 },
 "nbformat": 4,
 "nbformat_minor": 2
}
